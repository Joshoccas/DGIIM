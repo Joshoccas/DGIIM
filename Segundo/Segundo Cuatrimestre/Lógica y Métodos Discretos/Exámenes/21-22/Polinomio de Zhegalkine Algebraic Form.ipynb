{
 "cells": [
  {
   "cell_type": "markdown",
   "metadata": {},
   "source": [
    "# 3. Componga un programa en Python que ada una expresión booleana ecuentre su polinomio de Zhegalkine."
   ]
  },
  {
   "cell_type": "markdown",
   "metadata": {},
   "source": [
    "Importamos las librerías necesarias."
   ]
  },
  {
   "cell_type": "code",
   "execution_count": 1,
   "metadata": {},
   "outputs": [],
   "source": [
    "import sage.logic.propcalc as propcacl\n",
    "from sage.crypto.boolean_function import BooleanFunction"
   ]
  },
  {
   "cell_type": "markdown",
   "metadata": {},
   "source": [
    "Creamos la función deseada. \n",
    "\n",
    "Algunas entradas de prueba:\n",
    "1. ~x|y\n",
    "2. ~x|~y\n",
    "3. ~x&~y\n",
    "4. ~x&~y|x&y\n",
    "\n",
    "y las respuestas esperadas:\n",
    "\n",
    "1. xy + x + 1\n",
    "2. xy + 1\n",
    "3. xy + x + y + 1\n",
    "4. x + y + 1"
   ]
  },
  {
   "cell_type": "code",
   "execution_count": 37,
   "metadata": {},
   "outputs": [],
   "source": [
    "def getZhegalkine():\n",
    "    s = input(\"Expresión algebráica: \")\n",
    "    p = propcalc.formula(s)\n",
    "\n",
    "    truthTable = p.truthtable().get_table_list() #Lista con las filas\n",
    "\n",
    "    booleanGenerator = []\n",
    "\n",
    "    for i in range(1, len(truthTable)): #Cogemos solamente la úttima columna\n",
    "        to_add = truthTable[i][len(truthTable[i])-1]\n",
    "        booleanGenerator.append(to_add)\n",
    "\n",
    "    B = BooleanFunction(booleanGenerator) #Creamos la expresion booleana\n",
    "\n",
    "    return B.algebraic_normal_form()\n"
   ]
  },
  {
   "cell_type": "markdown",
   "metadata": {},
   "source": [
    "Y probamos nuestra función"
   ]
  },
  {
   "cell_type": "code",
   "execution_count": 38,
   "metadata": {},
   "outputs": [
    {
     "data": {
      "text/plain": [
       "x0*x1 + x0 + x1 + 1"
      ]
     },
     "execution_count": 38,
     "metadata": {},
     "output_type": "execute_result"
    }
   ],
   "source": [
    "getZhegalkine()"
   ]
  },
  {
   "cell_type": "markdown",
   "metadata": {},
   "source": [
    "Observamos que funciona correctamente."
   ]
  }
 ],
 "metadata": {
  "kernelspec": {
   "display_name": "SageMath 9.5",
   "language": "sage",
   "name": "sagemath"
  },
  "language_info": {
   "codemirror_mode": {
    "name": "ipython",
    "version": 3
   },
   "file_extension": ".py",
   "mimetype": "text/x-python",
   "name": "python",
   "nbconvert_exporter": "python",
   "pygments_lexer": "ipython3",
   "version": "3.10.4"
  },
  "orig_nbformat": 4,
  "vscode": {
   "interpreter": {
    "hash": "916dbcbb3f70747c44a77c7bcd40155683ae19c65e1c03b4aa3499c5328201f1"
   }
  }
 },
 "nbformat": 4,
 "nbformat_minor": 2
}
